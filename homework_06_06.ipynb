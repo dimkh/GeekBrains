{
 "metadata": {
  "language_info": {
   "codemirror_mode": {
    "name": "ipython",
    "version": 3
   },
   "file_extension": ".py",
   "mimetype": "text/x-python",
   "name": "python",
   "nbconvert_exporter": "python",
   "pygments_lexer": "ipython3",
   "version": "3.9.0-final"
  },
  "orig_nbformat": 2,
  "kernelspec": {
   "name": "python3",
   "display_name": "Python 3.9.0 64-bit",
   "metadata": {
    "interpreter": {
     "hash": "d90a11fc6ba3ffcd76a10e0bcd7be1d3375e62150250c69a519358e1b3dc5de4"
    }
   }
  }
 },
 "nbformat": 4,
 "nbformat_minor": 2,
 "cells": [
  {
   "cell_type": "code",
   "execution_count": 4,
   "metadata": {},
   "outputs": [
    {
     "output_type": "stream",
     "name": "stdout",
     "text": [
      "Исходная матрица A:\n[[1 2 3]\n [4 5 6]\n [7 8 9]]\n\nМатрица Q:\n[[-0.12309149  0.90453403  0.40824829]\n [-0.49236596  0.30151134 -0.81649658]\n [-0.86164044 -0.30151134  0.40824829]]\n\nМатрица R:\n[[-8.12403840e+00 -9.60113630e+00 -1.10782342e+01]\n [ 0.00000000e+00  9.04534034e-01  1.80906807e+00]\n [ 0.00000000e+00  0.00000000e+00 -8.88178420e-16]]\n\nПроверка корректности QR-разложения. При умножении Q на R получаем исходную матрицу A:\n[[1. 2. 3.]\n [4. 5. 6.]\n [7. 8. 9.]]\n\nПроверка ортогональности матрицы Q: произведение Q и транспонированной Q дает единичную матрицу:\n[[ 1.00000000e+00 -2.48218629e-16 -2.62094065e-17]\n [-2.48218629e-16  1.00000000e+00  2.82872043e-17]\n [-2.62094065e-17  2.82872043e-17  1.00000000e+00]]\n\nПодматрица R1 размером 2х2:\n[[-8.1240384  -9.6011363 ]\n [ 0.          0.90453403]]\n\nПодматрица B1, соответствует системе, определяющей X1:\n[-1.21860576e+01  3.55271368e-15]\n\nРешение этой линейной системы X1:\n[1.50000000e+00 3.92767275e-15]\n\nК решению X1 добавляем нулевой компонент вектора X2.\nПолучено псевдорешение для исходной линейной системы:\n[1.50000000e+00 3.92767275e-15 0.00000000e+00]\n\nНорма вектора X:\n1.499999999999996\n\nНорма вектора невязки исходной линейной системы:\n1.224744871391589\n"
     ]
    }
   ],
   "source": [
    "%matplotlib inline\n",
    "import matplotlib.pyplot as plt\n",
    "import numpy as np\n",
    "\n",
    "A = np.array([ [1, 2, 3], [4, 5, 6], [7, 8, 9] ])\n",
    "B = np.array([2, 5, 11])\n",
    "Q, R = np.linalg.qr(A)\n",
    "\n",
    "print('Исходная матрица A:')\n",
    "print(A)\n",
    "print()\n",
    "print('Матрица Q:')\n",
    "print(Q)\n",
    "print()\n",
    "print('Матрица R:')\n",
    "print(R)\n",
    "print()\n",
    "print('Проверка корректности QR-разложения. При умножении Q на R получаем исходную матрицу A:')\n",
    "print(np.dot(Q, R))\n",
    "print()\n",
    "print('Проверка ортогональности матрицы Q: произведение Q и транспонированной Q дает единичную матрицу:')\n",
    "print(np.dot(np.transpose(Q), Q))\n",
    "print()\n",
    "print('Подматрица R1 размером 2х2:')\n",
    "R1 = R[:2, :2]\n",
    "print(R1)\n",
    "print()\n",
    "print('Подматрица B1, соответствует системе, определяющей X1:')\n",
    "B1 = np.dot(np.transpose(Q), B)[:2]\n",
    "print(B1)\n",
    "print()\n",
    "X1 = np.linalg.solve(R1, B1)\n",
    "print('Решение этой линейной системы X1:')\n",
    "print(X1)\n",
    "print()\n",
    "X = np.append(X1, 0)\n",
    "print('К решению X1 добавляем нулевой компонент вектора X2.')\n",
    "print('Получено псевдорешение для исходной линейной системы:')\n",
    "print(X)\n",
    "print()\n",
    "print('Норма вектора X:')\n",
    "print(np.linalg.norm(X))\n",
    "print()\n",
    "print('Норма вектора невязки исходной линейной системы:')\n",
    "print(np.linalg.norm(np.dot(A, X) - B))\n"
   ]
  },
  {
   "cell_type": "code",
   "execution_count": null,
   "metadata": {},
   "outputs": [],
   "source": []
  }
 ]
}