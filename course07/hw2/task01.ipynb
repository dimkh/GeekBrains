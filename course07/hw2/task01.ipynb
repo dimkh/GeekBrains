{
 "cells": [
  {
   "cell_type": "code",
   "execution_count": 48,
   "source": [
    "# Задание 1\r\n",
    "\r\n",
    "import numpy as np\r\n",
    "\r\n",
    "# Первоначальный массив запишу строками: удобнее.\r\n",
    "a = np.array([[1, 2, 3, 3, 1],\r\n",
    "              [6, 8, 11, 10, 7]]).transpose()\r\n",
    "\r\n",
    "print(f'Исходный массив: \\n{a}')\r\n",
    "print(f'Размерность массива: {a.shape}')\r\n",
    "\r\n",
    "mean_a = a.mean(axis = 0)\r\n",
    "\r\n",
    "print(f'Среднее значение по каждому признаку: {mean_a}')"
   ],
   "outputs": [
    {
     "output_type": "stream",
     "name": "stdout",
     "text": [
      "Исходный массив: \n",
      "[[ 1  6]\n",
      " [ 2  8]\n",
      " [ 3 11]\n",
      " [ 3 10]\n",
      " [ 1  7]]\n",
      "Размерность массива: (5, 2)\n",
      "Среднее значение по каждому признаку: [2.  8.4]\n"
     ]
    }
   ],
   "metadata": {}
  },
  {
   "cell_type": "code",
   "execution_count": 49,
   "source": [
    "# Задание 2\r\n",
    "\r\n",
    "a_centered = a - mean_a\r\n",
    "\r\n",
    "print(f'От элементов в столбцах отняли среднее по каждому столбцу:\\n {a_centered}')"
   ],
   "outputs": [
    {
     "output_type": "stream",
     "name": "stdout",
     "text": [
      "От элементов в столбцах отняли среднее по каждому столбцу:\n",
      " [[-1.  -2.4]\n",
      " [ 0.  -0.4]\n",
      " [ 1.   2.6]\n",
      " [ 1.   1.6]\n",
      " [-1.  -1.4]]\n"
     ]
    }
   ],
   "metadata": {}
  },
  {
   "cell_type": "code",
   "execution_count": 50,
   "source": [
    "# Задание 3\r\n",
    "\r\n",
    "lst = a_centered.transpose()\r\n",
    "a_centered_sp = np.dot(lst[0], lst[1])\r\n",
    "\r\n",
    "print(f'Результат скалярного произведения столбцов массива: {a_centered_sp}')\r\n",
    "\r\n",
    "n = 5\r\n",
    "covar = a_centered_sp / (n - 1)\r\n",
    "print(f'Ковариация двух признаков заданного массива: {covar}')\r\n"
   ],
   "outputs": [
    {
     "output_type": "stream",
     "name": "stdout",
     "text": [
      "Результат скалярного произведения столбцов массива: 8.0\n",
      "Ковариация двух признаков заданного массива: 2.0\n"
     ]
    }
   ],
   "metadata": {}
  },
  {
   "cell_type": "code",
   "execution_count": 51,
   "source": [
    "# Задание 4\r\n",
    "\r\n",
    "covar_lst = np.cov(a.transpose())\r\n",
    "print(f'Ковариация через функцию Numpy: {covar_lst[0][1]}')"
   ],
   "outputs": [
    {
     "output_type": "stream",
     "name": "stdout",
     "text": [
      "Ковариация через функцию Numpy: 2.0\n"
     ]
    }
   ],
   "metadata": {}
  }
 ],
 "metadata": {
  "orig_nbformat": 4,
  "language_info": {
   "name": "python"
  }
 },
 "nbformat": 4,
 "nbformat_minor": 2
}