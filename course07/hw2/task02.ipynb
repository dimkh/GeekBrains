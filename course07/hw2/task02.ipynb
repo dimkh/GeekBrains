{
 "cells": [
  {
   "cell_type": "code",
   "execution_count": 17,
   "source": [
    "# Задание 1\r\n",
    "\r\n",
    "import pandas as pd\r\n",
    "\r\n",
    "authors = pd.DataFrame({'author_id': [1, 2, 3],\r\n",
    "                        'author_name': ['Тургенев', 'Чехов', 'Островский']},\r\n",
    "                       columns = ['author_id', 'author_name'])\r\n",
    "print(f'Список авторов: \\n{authors}')\r\n",
    "\r\n",
    "book = pd.DataFrame({'author_id': [1, 1, 1, 2, 2, 3, 3],\r\n",
    "                     'book_title': ['Отцы и дети', 'Рудин', 'Дворянское гнездо', 'Толстый и тонкий', 'Дама с собачкой',\r\n",
    "                                     'Гроза', 'Таланты и поклонники'],\r\n",
    "                     'price': [450, 300, 350, 500, 450, 370, 290]},\r\n",
    "                    columns = ['author_id', 'book_title', 'price'])\r\n",
    "print(f'Список произведений: \\n{book}')"
   ],
   "outputs": [
    {
     "output_type": "stream",
     "name": "stdout",
     "text": [
      "Список авторов: \n",
      "   author_id author_name\n",
      "0          1    Тургенев\n",
      "1          2       Чехов\n",
      "2          3  Островский\n",
      "Список произведений: \n",
      "   author_id            book_title  price\n",
      "0          1           Отцы и дети    450\n",
      "1          1                 Рудин    300\n",
      "2          1     Дворянское гнездо    350\n",
      "3          2      Толстый и тонкий    500\n",
      "4          2       Дама с собачкой    450\n",
      "5          3                 Гроза    370\n",
      "6          3  Таланты и поклонники    290\n"
     ]
    }
   ],
   "metadata": {}
  },
  {
   "cell_type": "code",
   "execution_count": 18,
   "source": [
    "# Задание 2\r\n",
    "\r\n",
    "authors_price = pd.merge(authors, book, on = 'author_id', how = 'outer')\r\n",
    "\r\n",
    "print(f'Объединение авторов и произведений: \\n{authors_price}')"
   ],
   "outputs": [
    {
     "output_type": "stream",
     "name": "stdout",
     "text": [
      "Объединение авторов и произведений: \n",
      "   author_id author_name            book_title  price\n",
      "0          1    Тургенев           Отцы и дети    450\n",
      "1          1    Тургенев                 Рудин    300\n",
      "2          1    Тургенев     Дворянское гнездо    350\n",
      "3          2       Чехов      Толстый и тонкий    500\n",
      "4          2       Чехов       Дама с собачкой    450\n",
      "5          3  Островский                 Гроза    370\n",
      "6          3  Островский  Таланты и поклонники    290\n"
     ]
    }
   ],
   "metadata": {}
  },
  {
   "cell_type": "code",
   "execution_count": 19,
   "source": [
    "# Задание 3\r\n",
    "\r\n",
    "top5 = authors_price.nlargest(5, 'price')\r\n",
    "\r\n",
    "print(f'5 книг самых дорогих книг: \\n {top5}')\r\n"
   ],
   "outputs": [
    {
     "output_type": "stream",
     "name": "stdout",
     "text": [
      "5 книг самых дорогих книг: \n",
      "    author_id author_name         book_title  price\n",
      "3          2       Чехов   Толстый и тонкий    500\n",
      "0          1    Тургенев        Отцы и дети    450\n",
      "4          2       Чехов    Дама с собачкой    450\n",
      "5          3  Островский              Гроза    370\n",
      "2          1    Тургенев  Дворянское гнездо    350\n"
     ]
    }
   ],
   "metadata": {}
  },
  {
   "cell_type": "code",
   "execution_count": 20,
   "source": [
    "# Задание 4\r\n",
    "\r\n",
    "# С помощью группировки создаём новый датафрейм\r\n",
    "authors_stat = authors_price.groupby('author_name').agg({'price': ['min', 'max', 'mean']})\r\n",
    "\r\n",
    "# Переименуем столбцы в заданные\r\n",
    "authors_stat = authors_stat.rename(columns = {'min': 'min_price', 'max': 'max_price', 'mean': 'mean_price'})\r\n",
    "print(f'Статистика по цене книг каждого автора: \\n{authors_stat}')\r\n"
   ],
   "outputs": [
    {
     "output_type": "stream",
     "name": "stdout",
     "text": [
      "Статистика по цене книг каждого автора: \n",
      "                price                      \n",
      "            min_price max_price  mean_price\n",
      "author_name                                \n",
      "Островский        290       370  330.000000\n",
      "Тургенев          300       450  366.666667\n",
      "Чехов             450       500  475.000000\n"
     ]
    }
   ],
   "metadata": {}
  },
  {
   "cell_type": "code",
   "execution_count": 21,
   "source": [
    "# Задание 5\r\n",
    "\r\n",
    "import numpy as np\r\n",
    "\r\n",
    "# Добавляем столбец с обложками\r\n",
    "authors_price['cover'] = ['твердая', 'мягкая', 'мягкая', 'твердая', 'твердая', 'мягкая', 'мягкая']\r\n",
    "print(f'\\nОбложки книг: \\n{authors_price}')\r\n",
    "\r\n",
    "# Создаём датафрейм с суммарной стоимостью книг по каждому автору\r\n",
    "book_info = pd.pivot_table(authors_price, values = 'price', index = ['author_name'], columns = ['cover'],\r\n",
    "                           aggfunc = np.sum)\r\n",
    "\r\n",
    "# Заменяем значения NaN на число 0\r\n",
    "book_info['мягкая'] = book_info['мягкая'].fillna(0)\r\n",
    "book_info['твердая'] = book_info['твердая'].fillna(0)\r\n",
    "print(f'\\nСтоимость книг по каждому автору (обложки): \\n{book_info}')\r\n",
    "\r\n",
    "# Пишем и читаем информацию в/из файл(а)\r\n",
    "book_info.to_pickle('book_info.pkl')\r\n",
    "book_info2 = pd.read_pickle('book_info.pkl')\r\n",
    "\r\n",
    "# Сравниваем датафреймы\r\n",
    "if book_info.equals(book_info2):\r\n",
    "    print('\\nДатафреймы одинаковые!')\r\n",
    "else:\r\n",
    "    print('\\nДатафреймы разные!')\r\n"
   ],
   "outputs": [
    {
     "output_type": "stream",
     "name": "stdout",
     "text": [
      "\n",
      "Обложки книг: \n",
      "   author_id author_name            book_title  price    cover\n",
      "0          1    Тургенев           Отцы и дети    450  твердая\n",
      "1          1    Тургенев                 Рудин    300   мягкая\n",
      "2          1    Тургенев     Дворянское гнездо    350   мягкая\n",
      "3          2       Чехов      Толстый и тонкий    500  твердая\n",
      "4          2       Чехов       Дама с собачкой    450  твердая\n",
      "5          3  Островский                 Гроза    370   мягкая\n",
      "6          3  Островский  Таланты и поклонники    290   мягкая\n",
      "\n",
      "Стоимость книг по каждому автору (обложки): \n",
      "cover        мягкая  твердая\n",
      "author_name                 \n",
      "Островский    660.0      0.0\n",
      "Тургенев      650.0    450.0\n",
      "Чехов           0.0    950.0\n",
      "\n",
      "Датафреймы одинаковые!\n"
     ]
    }
   ],
   "metadata": {}
  }
 ],
 "metadata": {
  "orig_nbformat": 4,
  "language_info": {
   "name": "python"
  }
 },
 "nbformat": 4,
 "nbformat_minor": 2
}