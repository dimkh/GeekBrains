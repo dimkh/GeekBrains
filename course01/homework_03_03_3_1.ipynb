{
 "metadata": {
  "language_info": {
   "codemirror_mode": {
    "name": "ipython",
    "version": 3
   },
   "file_extension": ".py",
   "mimetype": "text/x-python",
   "name": "python",
   "nbconvert_exporter": "python",
   "pygments_lexer": "ipython3",
   "version": "3.9.0-final"
  },
  "orig_nbformat": 2,
  "kernelspec": {
   "name": "python3",
   "display_name": "Python 3.9.0 64-bit",
   "metadata": {
    "interpreter": {
     "hash": "d90a11fc6ba3ffcd76a10e0bcd7be1d3375e62150250c69a519358e1b3dc5de4"
    }
   }
  }
 },
 "nbformat": 4,
 "nbformat_minor": 2,
 "cells": [
  {
   "cell_type": "code",
   "execution_count": 1,
   "metadata": {},
   "outputs": [
    {
     "output_type": "stream",
     "name": "stdout",
     "text": [
      "Координаты 2,2 в декартовой системе координат соответствуют\nследующим координатам в полярной системе координат:\n\nПолярный радиус: 2.8284271247461903\nПолярный угол (радиан): 0.7853981633974483\nПолярный угол (градусов): 45.0\n"
     ]
    }
   ],
   "source": [
    "%matplotlib inline\n",
    "import numpy as np\n",
    "import matplotlib.pyplot as plt\n",
    "import math\n",
    "\n",
    "x = 2\n",
    "y = 2\n",
    "r = math.sqrt(x**2 + y**2)\n",
    "frad = math.atan(y/x)\n",
    "fgrad = frad * 180 / np.pi\n",
    "\n",
    "print(f'Координаты {x},{y} в декартовой системе координат соответствуют')\n",
    "print('следующим координатам в полярной системе координат:')\n",
    "print()\n",
    "print(f'Полярный радиус: {r}')\n",
    "print(f'Полярный угол (радиан): {frad}')\n",
    "print(f'Полярный угол (градусов): {fgrad}')"
   ]
  },
  {
   "cell_type": "code",
   "execution_count": null,
   "metadata": {},
   "outputs": [],
   "source": []
  }
 ]
}