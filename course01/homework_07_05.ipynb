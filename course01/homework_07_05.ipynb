{
 "metadata": {
  "language_info": {
   "codemirror_mode": {
    "name": "ipython",
    "version": 3
   },
   "file_extension": ".py",
   "mimetype": "text/x-python",
   "name": "python",
   "nbconvert_exporter": "python",
   "pygments_lexer": "ipython3",
   "version": "3.9.0-final"
  },
  "orig_nbformat": 2,
  "kernelspec": {
   "name": "python3",
   "display_name": "Python 3.9.0 64-bit",
   "metadata": {
    "interpreter": {
     "hash": "d90a11fc6ba3ffcd76a10e0bcd7be1d3375e62150250c69a519358e1b3dc5de4"
    }
   }
  }
 },
 "nbformat": 4,
 "nbformat_minor": 2,
 "cells": [
  {
   "cell_type": "code",
   "execution_count": 8,
   "metadata": {},
   "outputs": [
    {
     "output_type": "stream",
     "name": "stdout",
     "text": [
      "Векторное произведение векторов b и c (вектор): [ 13.5  43.  -53. ]\nСкалярное произведение трёх векторов (число): 228.5\n"
     ]
    }
   ],
   "source": [
    "%matplotlib inline\n",
    "import numpy as np\n",
    "import matplotlib.pyplot as plt\n",
    "a = [1, 5, 0]\n",
    "b = [2, 8, 7]\n",
    "c = [7, 1.5, 3]\n",
    "d = np.cross(b, c)\n",
    "print(f'Векторное произведение векторов b и c (вектор): {d}')\n",
    "v = np.inner(a, d)\n",
    "print(f'Скалярное произведение трёх векторов (число): {v}')"
   ]
  },
  {
   "cell_type": "code",
   "execution_count": null,
   "metadata": {},
   "outputs": [],
   "source": []
  }
 ]
}