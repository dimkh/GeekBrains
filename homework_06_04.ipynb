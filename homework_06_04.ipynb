{
 "metadata": {
  "language_info": {
   "codemirror_mode": {
    "name": "ipython",
    "version": 3
   },
   "file_extension": ".py",
   "mimetype": "text/x-python",
   "name": "python",
   "nbconvert_exporter": "python",
   "pygments_lexer": "ipython3",
   "version": "3.8.3-final"
  },
  "orig_nbformat": 2,
  "kernelspec": {
   "name": "python3",
   "display_name": "Python 3",
   "language": "python"
  }
 },
 "nbformat": 4,
 "nbformat_minor": 2,
 "cells": [
  {
   "cell_type": "code",
   "execution_count": 14,
   "metadata": {},
   "outputs": [
    {
     "output_type": "stream",
     "name": "stdout",
     "text": [
      "LU-разложение исходной матрицы А:\n\n[[0. 1. 0.]\n [0. 0. 1.]\n [1. 0. 0.]]\n\n[[ 1.    0.    0.  ]\n [ 0.25  1.    0.  ]\n [ 0.5  -0.4   1.  ]]\n\n[[  4.    28.    73.  ]\n [  0.    -5.   -15.25]\n [  0.     0.   -21.6 ]]\n\nДетерминант исходной матрицы А: 432.00000000000017\n\nПридуманный вектор правых частей: [ 10  53 171]\n\nРанг матрицы A:  3\nРанг матрицы A1: 3\nРанги исходной и расширенной матрицы равны, ранг равен количеству неизвестных,\nдетерминант не равен нулю - система имеет единственное решение\n\nРешение полученной линейной системы трёх уравнений:\n[3.44444444 0.11111111 2.11111111]\n"
     ]
    }
   ],
   "source": [
    "%matplotlib inline\n",
    "import matplotlib.pyplot as plt\n",
    "import numpy as np\n",
    "import scipy \n",
    "import scipy.linalg\n",
    "\n",
    "A = np.array([[ 1,  2,  3],\n",
    "              [ 2, 16, 21],\n",
    "              [ 4, 28, 73]])\n",
    "B = np.array([10, 53, 171])\n",
    "A1 = np.array([[ 1,  2,  3,  10],\n",
    "               [ 2, 16, 21,  53],\n",
    "               [ 4, 28, 73, 171]])\n",
    "D = np.linalg.det(A)\n",
    "P, L, U = scipy.linalg.lu(A)\n",
    "r_A = np.linalg.matrix_rank(A, 0.0001)\n",
    "r_A1 = np.linalg.matrix_rank(A, 0.0001)\n",
    "\n",
    "print('LU-разложение исходной матрицы А:')\n",
    "print()\n",
    "print(P)\n",
    "print()\n",
    "print(L)\n",
    "print()\n",
    "print(U)\n",
    "print()\n",
    "print(f'Детерминант исходной матрицы А: {D}')\n",
    "print()\n",
    "print(f'Придуманный вектор правых частей: {B}')\n",
    "print()\n",
    "print(f'Ранг матрицы A:  {r_A}')\n",
    "print(f'Ранг матрицы A1: {r_A1}')\n",
    "print('Ранги исходной и расширенной матрицы равны, ранг равен количеству неизвестных,')\n",
    "print('детерминант не равен нулю - система имеет единственное решение')\n",
    "print()\n",
    "print('Решение полученной линейной системы трёх уравнений:')\n",
    "print(np.linalg.solve(A, B))"
   ]
  },
  {
   "cell_type": "code",
   "execution_count": null,
   "metadata": {},
   "outputs": [],
   "source": []
  }
 ]
}