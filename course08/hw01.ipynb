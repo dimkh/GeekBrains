{
 "cells": [
  {
   "cell_type": "code",
   "execution_count": 2,
   "source": [
    "import numpy as np\r\n",
    "import matplotlib.pyplot as plt"
   ],
   "outputs": [],
   "metadata": {}
  },
  {
   "cell_type": "code",
   "execution_count": 3,
   "source": [
    "def calc_mae(y, y_pred):\r\n",
    "    err = np.mean(np.abs(y - y_pred))\r\n",
    "    return err\r\n",
    "\r\n",
    "def calc_mse(y, y_pred):\r\n",
    "    err = np.mean((y - y_pred)**2) # <=> 1/n * np.sum((y_pred - y)**2)\r\n",
    "    return err"
   ],
   "outputs": [],
   "metadata": {}
  },
  {
   "cell_type": "code",
   "execution_count": 4,
   "source": [
    "X = np.array([[1, 1, 1, 1, 1, 1, 1, 1, 1, 1],\r\n",
    "              [1, 1, 2, 5, 3, 0, 5, 10, 1, 2]])\r\n",
    "X"
   ],
   "outputs": [
    {
     "output_type": "execute_result",
     "data": {
      "text/plain": [
       "array([[ 1,  1,  1,  1,  1,  1,  1,  1,  1,  1],\n",
       "       [ 1,  1,  2,  5,  3,  0,  5, 10,  1,  2]])"
      ]
     },
     "metadata": {},
     "execution_count": 4
    }
   ],
   "metadata": {}
  },
  {
   "cell_type": "code",
   "execution_count": 5,
   "source": [
    "y = [45, 55, 50, 55, 60, 35, 75, 80, 50, 60]"
   ],
   "outputs": [],
   "metadata": {}
  },
  {
   "cell_type": "markdown",
   "source": [
    "1. Подберите скорость обучения (alpha) и количество итераций"
   ],
   "metadata": {}
  },
  {
   "cell_type": "code",
   "execution_count": 97,
   "source": [
    "n = X.shape[1]\r\n",
    "alpha = 1/10\r\n",
    "W = np.array([1, 0.5])\r\n",
    "print(f'Number of objects = {n} \\\r\n",
    "       \\nLearning rate = {alpha} \\\r\n",
    "       \\nInitial weights = {W} \\n')\r\n",
    "\r\n",
    "steps = 220\r\n",
    "for i in range(steps):\r\n",
    "    y_pred = np.dot(W, X)\r\n",
    "    err = calc_mse(y, y_pred)\r\n",
    "\r\n",
    "    for k in range(W.shape[0]):\r\n",
    "        W[k] -= alpha * (1/n * 2 * np.sum(X[k] * (y_pred - y)))\r\n",
    "    if i % 10 == 0:\r\n",
    "        alpha /= 1.1\r\n",
    "        print(f'Iteration #{i}: W_new = {W}, MSE = {round(err,4)}')\r\n",
    "\r\n",
    "# Выводим итоги.\r\n",
    "print(f'Iteration #{steps}: W_new = {W}, MSE = {round(err,4)}')"
   ],
   "outputs": [
    {
     "output_type": "stream",
     "name": "stdout",
     "text": [
      "Number of objects = 10        \n",
      "Learning rate = 0.1        \n",
      "Initial weights = [1.  0.5] \n",
      "\n",
      "Iteration #0: W_new = [11.8 38.2], MSE = 3047.75\n",
      "Iteration #10: W_new = [12651.73553914 69617.0969639 ], MSE = 18310954068.0478\n",
      "Iteration #20: W_new = [ 7732434.81888022 42641607.3785219 ], MSE = 9128819654907584.0\n",
      "Iteration #30: W_new = [1.06344502e+09 5.86454589e+09], MSE = 2.3279203642668515e+20\n",
      "Iteration #40: W_new = [3.00127077e+10 1.65510116e+11], MSE = 2.545133529815949e+23\n",
      "Iteration #50: W_new = [1.55345341e+11 8.56677968e+11], MSE = 9.572295620500124e+24\n",
      "Iteration #60: W_new = [1.27742291e+11 7.04456313e+11], MSE = 9.351480126476035e+24\n",
      "Iteration #70: W_new = [1.38141953e+10 7.61806995e+10], MSE = 1.6408589528283986e+23\n",
      "Iteration #80: W_new = [1.51674189e+08 8.36432543e+08], MSE = 3.125533537874479e+19\n",
      "Iteration #90: W_new = [116395.49978363 641638.79866064], MSE = 31317286806394.586\n",
      "Iteration #100: W_new = [48.41959619 22.99885147], MSE = 53518.8645\n",
      "Iteration #110: W_new = [44.97711111  3.82799209], MSE = 43.9724\n",
      "Iteration #120: W_new = [44.99891751  3.8240297 ], MSE = 43.9708\n",
      "Iteration #130: W_new = [45.01385183  3.8213216 ], MSE = 43.9699\n",
      "Iteration #140: W_new = [45.02434994  3.81941793], MSE = 43.9695\n",
      "Iteration #150: W_new = [45.03190658  3.81804765], MSE = 43.9692\n",
      "Iteration #160: W_new = [45.03746405  3.81703988], MSE = 43.9691\n",
      "Iteration #170: W_new = [45.04163168  3.81628415], MSE = 43.969\n",
      "Iteration #180: W_new = [45.04481278  3.8157073 ], MSE = 43.9689\n",
      "Iteration #190: W_new = [45.04728014  3.81525989], MSE = 43.9689\n",
      "Iteration #200: W_new = [45.04922195  3.81490777], MSE = 43.9688\n",
      "Iteration #210: W_new = [45.05077048  3.81462697], MSE = 43.9688\n",
      "Iteration #220: W_new = [45.05190155  3.81442187], MSE = 43.9688\n"
     ]
    }
   ],
   "metadata": {}
  },
  {
   "cell_type": "markdown",
   "source": [
    "Оптимальным оказалась скорость обучения alpha = 1/10.\r\n",
    "При такой скорости уже на 200-й итерации перестаёт изменяться среднеквадратичная ошибка в четвёртом знаке, веса при этом практически не изменяются.\r\n",
    "\r\n",
    "Хочу заметить, что в оригинальном алгоритме не выводились итоги, а только промежуточные результаты. Исправил."
   ],
   "metadata": {}
  },
  {
   "cell_type": "markdown",
   "source": [
    "*2. В этом коде мы избавляемся от итераций по весам, но тут есть ошибка, исправьте ее"
   ],
   "metadata": {}
  },
  {
   "cell_type": "markdown",
   "source": [
    "К сожалению, это задание я не смог решить."
   ],
   "metadata": {}
  },
  {
   "cell_type": "markdown",
   "source": [
    "*3. Вместо того, чтобы задавать количество итераций, задайте условие остановки алгоритма - когда ошибка за итерацию начинает изменяться ниже определенного порога (упрощенный аналог параметра tol в линейной регрессии в sklearn)."
   ],
   "metadata": {}
  },
  {
   "cell_type": "code",
   "execution_count": 123,
   "source": [
    "n = X.shape[1]\r\n",
    "alpha = 1/10\r\n",
    "W = np.array([1, 0.5])\r\n",
    "print(f'Number of objects = {n} \\\r\n",
    "       \\nLearning rate = {alpha} \\\r\n",
    "       \\nInitial weights = {W} \\n')\r\n",
    "\r\n",
    "# Инициализируем дополнительные переменные\r\n",
    "tol = 1e-4          # Пороговое значение дельты MSE двух последних шагов\r\n",
    "i = 1\r\n",
    "old_err = 1e10\r\n",
    "\r\n",
    "while True:\r\n",
    "    y_pred = np.dot(W, X)\r\n",
    "    err = calc_mse(y, y_pred)\r\n",
    "\r\n",
    "    if abs(old_err - err) < tol:            # Сравниваем разницу MSE двух последних шагов с порогом\r\n",
    "        break\r\n",
    "\r\n",
    "    for k in range(W.shape[0]):\r\n",
    "        W[k] -= alpha * (1/n * 2 * np.sum(X[k] * (y_pred - y)))\r\n",
    "    if i % 10 == 0:\r\n",
    "        alpha /= 1.1\r\n",
    "        print(f'Iteration #{i}: W_new = {W}, MSE = {round(err, 4)}')\r\n",
    "\r\n",
    "    i += 1\r\n",
    "    old_err = err\r\n",
    "\r\n",
    "# Выводим итоги.\r\n",
    "print(f'Iteration #{i}: W_new = {W}, MSE = {round(err, 4)}')"
   ],
   "outputs": [
    {
     "output_type": "stream",
     "name": "stdout",
     "text": [
      "Number of objects = 10        \n",
      "Learning rate = 0.1        \n",
      "Initial weights = [1.  0.5] \n",
      "\n",
      "Iteration #10: W_new = [ -19571.65457208 -108083.75617894], MSE = 33637385994.2785\n",
      "Iteration #20: W_new = [-4.96992408e+07 -2.74075015e+08], MSE = 2.8385858979660186e+17\n",
      "Iteration #30: W_new = [-3.04445588e+10 -1.67891632e+11], MSE = 1.41516050494567e+23\n",
      "Iteration #40: W_new = [-4.18707326e+12 -2.30903186e+13], MSE = 3.6087698987439096e+27\n",
      "Iteration #50: W_new = [-1.18168226e+14 -6.51658522e+14], MSE = 3.9454963372753723e+30\n",
      "Iteration #60: W_new = [-6.11637028e+14 -3.37297509e+15], MSE = 1.4839086777789424e+32\n",
      "Iteration #70: W_new = [-5.02956282e+14 -2.77363687e+15], MSE = 1.4496775966714361e+32\n",
      "Iteration #80: W_new = [-5.43902590e+13 -2.99944216e+14], MSE = 2.5436791085920576e+30\n",
      "Iteration #90: W_new = [-5.97182524e+11 -3.29326331e+12], MSE = 4.845239348446656e+26\n",
      "Iteration #100: W_new = [-4.58104063e+08 -2.52629203e+09], MSE = 4.8548431326035345e+20\n",
      "Iteration #110: W_new = [-13637.73726424 -75453.77267013], MSE = 828974099326.4935\n",
      "Iteration #120: W_new = [45.24569316  3.74725463], MSE = 44.3165\n",
      "Iteration #130: W_new = [45.20309408  3.78700543], MSE = 43.9786\n",
      "Iteration #140: W_new = [45.17007122  3.79299362], MSE = 43.9745\n",
      "Iteration #150: W_new = [45.14685771  3.79720303], MSE = 43.9723\n",
      "Iteration #160: W_new = [45.13014842  3.800233  ], MSE = 43.971\n",
      "Iteration #161: W_new = [45.13014842  3.800233  ], MSE = 43.9709\n"
     ]
    }
   ],
   "metadata": {}
  },
  {
   "cell_type": "markdown",
   "source": [
    "4. Сделайте выводы по результатам работы с GD : что повышает качество результата, что понижает."
   ],
   "metadata": {}
  },
  {
   "cell_type": "markdown",
   "source": [
    "Качество результата работы градиентного спуска повышает уменьшение длины шага при каждом расчёте (это плюс).\r\n",
    "\r\n",
    "При этом естественно возрастает количество шагов, нужное для достижения результата, и, следовательно, нужны дополнительные временнЫе и/или технические ресурсы (это минус).\r\n",
    "\r\n",
    "Если длина шага будет большой, то есть риск вообще не получить результат, т.к. алгоритм будет перепрыгивать искомый минимум функции."
   ],
   "metadata": {}
  }
 ],
 "metadata": {
  "orig_nbformat": 4,
  "language_info": {
   "name": "python",
   "version": "3.8.3",
   "mimetype": "text/x-python",
   "codemirror_mode": {
    "name": "ipython",
    "version": 3
   },
   "pygments_lexer": "ipython3",
   "nbconvert_exporter": "python",
   "file_extension": ".py"
  },
  "kernelspec": {
   "name": "python3",
   "display_name": "Python 3.8.3 64-bit"
  },
  "interpreter": {
   "hash": "75aa73c79266d4692a2df8ead62ea8bbacfe1ac0263c8d6d94a969dc4efeff59"
  }
 },
 "nbformat": 4,
 "nbformat_minor": 2
}