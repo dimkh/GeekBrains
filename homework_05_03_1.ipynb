{
 "metadata": {
  "language_info": {
   "codemirror_mode": {
    "name": "ipython",
    "version": 3
   },
   "file_extension": ".py",
   "mimetype": "text/x-python",
   "name": "python",
   "nbconvert_exporter": "python",
   "pygments_lexer": "ipython3",
   "version": "3.8.3-final"
  },
  "orig_nbformat": 2,
  "kernelspec": {
   "name": "python3",
   "display_name": "Python 3"
  }
 },
 "nbformat": 4,
 "nbformat_minor": 2,
 "cells": [
  {
   "cell_type": "code",
   "execution_count": 5,
   "metadata": {},
   "outputs": [
    {
     "output_type": "stream",
     "name": "stdout",
     "text": [
      "Расчёт вероятности выпадения 2-х орлов из 4-х независимых испытаний (метод Монте-Карло): 0.3779\nРасчёт вероятности выпадения 2-х орлов из 4-х независимых испытаний (ручной расчёт):     0,375\n"
     ]
    }
   ],
   "source": [
    "%matplotlib inline\n",
    "import matplotlib.pyplot as plt\n",
    "import numpy as np\n",
    "import itertools\n",
    "\n",
    "k, n = 0, 10000\n",
    "a = np.random.randint(0, 2, n)\n",
    "b = np.random.randint(0, 2, n)\n",
    "c = np.random.randint(0, 2, n)\n",
    "d = np.random.randint(0, 2, n)\n",
    "x = a + b + c + d\n",
    "for i in range(0, n):\n",
    "    if x[i] == 2:\n",
    "        k = k + 1\n",
    "\n",
    "# Ручной расчёт вероятности выпадения 2-х орлов в 4-х испытаниях:\n",
    "# P4(2) = C4(2) * 1 / 2**4\n",
    "# C4(2) = 4! / (2! * (4-2)!) = 6\n",
    "# P4(2) = 6 / 16 = 0,375\n",
    "\n",
    "print(f'Расчёт вероятности выпадения 2-х орлов из 4-х независимых испытаний (метод Монте-Карло): {k/n}')\n",
    "print('Расчёт вероятности выпадения 2-х орлов из 4-х независимых испытаний (ручной расчёт):     0,375')"
   ]
  },
  {
   "cell_type": "code",
   "execution_count": null,
   "metadata": {},
   "outputs": [],
   "source": []
  }
 ]
}