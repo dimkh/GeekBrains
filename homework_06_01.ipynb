{
 "metadata": {
  "language_info": {
   "codemirror_mode": {
    "name": "ipython",
    "version": 3
   },
   "file_extension": ".py",
   "mimetype": "text/x-python",
   "name": "python",
   "nbconvert_exporter": "python",
   "pygments_lexer": "ipython3",
   "version": "3.9.0-final"
  },
  "orig_nbformat": 2,
  "kernelspec": {
   "name": "python3",
   "display_name": "Python 3.9.0 64-bit",
   "metadata": {
    "interpreter": {
     "hash": "d90a11fc6ba3ffcd76a10e0bcd7be1d3375e62150250c69a519358e1b3dc5de4"
    }
   }
  }
 },
 "nbformat": 4,
 "nbformat_minor": 2,
 "cells": [
  {
   "cell_type": "code",
   "execution_count": 6,
   "metadata": {},
   "outputs": [
    {
     "output_type": "stream",
     "name": "stdout",
     "text": [
      "Решение с помощью функции solve:\n[-9.2         0.9         6.46666667]\n\nРешение через обратную матрицу:\n[[-0.8         0.1         0.2       ]\n [ 0.1        -0.2         0.1       ]\n [ 0.53333333  0.1        -0.13333333]]\n\n[-9.2         0.9         6.46666667]\n\nОба решения совпадают!\n"
     ]
    }
   ],
   "source": [
    "%matplotlib inline\n",
    "import numpy as np\n",
    "import matplotlib.pyplot as plt\n",
    "A = [[1, 2, 3], [4, 0, 6], [7, 8, 9]]\n",
    "B = [12, 2, 1]\n",
    "A0 = np.linalg.solve(A, B)\n",
    "print('Решение с помощью функции solve:')\n",
    "print(A0)\n",
    "print('')\n",
    "A1 = np.linalg.inv(A)\n",
    "print('Решение через обратную матрицу:')\n",
    "print(A1)\n",
    "#print(\"det =\", np.linalg.det(A))\n",
    "A2 = np.dot(A1, B)\n",
    "print('')\n",
    "print(A2)\n",
    "print('')\n",
    "print('Оба решения совпадают!')"
   ]
  },
  {
   "cell_type": "code",
   "execution_count": null,
   "metadata": {},
   "outputs": [],
   "source": []
  }
 ]
}