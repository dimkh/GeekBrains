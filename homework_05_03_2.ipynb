{
 "metadata": {
  "language_info": {
   "codemirror_mode": {
    "name": "ipython",
    "version": 3
   },
   "file_extension": ".py",
   "mimetype": "text/x-python",
   "name": "python",
   "nbconvert_exporter": "python",
   "pygments_lexer": "ipython3",
   "version": "3.8.3-final"
  },
  "orig_nbformat": 2,
  "kernelspec": {
   "name": "python3",
   "display_name": "Python 3"
  }
 },
 "nbformat": 4,
 "nbformat_minor": 2,
 "cells": [
  {
   "cell_type": "code",
   "execution_count": 3,
   "metadata": {},
   "outputs": [
    {
     "output_type": "stream",
     "name": "stdout",
     "text": [
      "Расчёт вероятности выпадения 3-х орлов из 5-и независимых испытаний (метод Монте-Карло): 0.3148\nРасчёт вероятности выпадения 3-х орлов из 5-и независимых испытаний (ручной расчёт):     0,3125\n"
     ]
    }
   ],
   "source": [
    "%matplotlib inline\n",
    "import matplotlib.pyplot as plt\n",
    "import numpy as np\n",
    "import itertools\n",
    "\n",
    "k, n = 0, 10000\n",
    "a = np.random.randint(0, 2, n)\n",
    "b = np.random.randint(0, 2, n)\n",
    "c = np.random.randint(0, 2, n)\n",
    "d = np.random.randint(0, 2, n)\n",
    "e = np.random.randint(0, 2, n)\n",
    "x = a + b + c + d + e\n",
    "for i in range(0, n):\n",
    "    if x[i] == 3:\n",
    "        k = k + 1\n",
    "\n",
    "# Ручной расчёт вероятности выпадения 3-х орлов в 5-и испытаниях:\n",
    "# P5(3) = C5(3) * 1 / 2**5\n",
    "# C5(3) = 5! / (3! * (5-3)!) = 10\n",
    "# P5(3) = 10 / 32 = 0,3125\n",
    "\n",
    "print(f'Расчёт вероятности выпадения 3-х орлов из 5-и независимых испытаний (метод Монте-Карло): {k/n}')\n",
    "print('Расчёт вероятности выпадения 3-х орлов из 5-и независимых испытаний (ручной расчёт):     0,3125')"
   ]
  },
  {
   "cell_type": "code",
   "execution_count": null,
   "metadata": {},
   "outputs": [],
   "source": []
  }
 ]
}