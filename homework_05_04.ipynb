{
 "metadata": {
  "language_info": {
   "codemirror_mode": {
    "name": "ipython",
    "version": 3
   },
   "file_extension": ".py",
   "mimetype": "text/x-python",
   "name": "python",
   "nbconvert_exporter": "python",
   "pygments_lexer": "ipython3",
   "version": "3.8.3-final"
  },
  "orig_nbformat": 2,
  "kernelspec": {
   "name": "python3",
   "display_name": "Python 3"
  }
 },
 "nbformat": 4,
 "nbformat_minor": 2,
 "cells": [
  {
   "cell_type": "code",
   "execution_count": 15,
   "metadata": {},
   "outputs": [
    {
     "output_type": "stream",
     "name": "stdout",
     "text": [
      "1 - 012\n2 - 013\n3 - 014\n4 - 021\n5 - 023\n6 - 024\n7 - 031\n8 - 032\n9 - 034\n10 - 041\n11 - 042\n12 - 043\n13 - 102\n14 - 103\n15 - 104\n16 - 120\n17 - 123\n18 - 124\n19 - 130\n20 - 132\n21 - 134\n22 - 140\n23 - 142\n24 - 143\n25 - 201\n26 - 203\n27 - 204\n28 - 210\n29 - 213\n30 - 214\n31 - 230\n32 - 231\n33 - 234\n34 - 240\n35 - 241\n36 - 243\n37 - 301\n38 - 302\n39 - 304\n40 - 310\n41 - 312\n42 - 314\n43 - 320\n44 - 321\n45 - 324\n46 - 340\n47 - 341\n48 - 342\n49 - 401\n50 - 402\n51 - 403\n52 - 410\n53 - 412\n54 - 413\n55 - 420\n56 - 421\n57 - 423\n58 - 430\n59 - 431\n60 - 432\n"
     ]
    }
   ],
   "source": [
    "import itertools\n",
    "\n",
    "# Число размещений (перестановок) из 5 по 3\n",
    "# (5 * 4 * 3 = 60 перестановок)\n",
    "k = 1\n",
    "for p in itertools.permutations(\"01234\",3):\n",
    "    print(str(k) + ' - ' + (''.join(str(x) for x in p)))\n",
    "    k += 1"
   ]
  },
  {
   "cell_type": "code",
   "execution_count": null,
   "metadata": {},
   "outputs": [],
   "source": []
  }
 ]
}